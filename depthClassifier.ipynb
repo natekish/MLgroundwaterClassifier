{
 "cells": [
  {
   "cell_type": "markdown",
   "metadata": {},
   "source": [
    "# Imports"
   ]
  },
  {
   "cell_type": "code",
   "execution_count": 1,
   "metadata": {},
   "outputs": [],
   "source": [
    "#Array imports\n",
    "import numpy as np \n",
    "import pandas as pd \n",
    "\n",
    "#Graph plots imports\n",
    "%matplotlib inline\n",
    "import geopandas\n",
    "import matplotlib\n",
    "import matplotlib as mpl\n",
    "import matplotlib.pyplot as plt\n",
    "mpl.rc('axes', labelsize=14)\n",
    "mpl.rc('xtick', labelsize=12)\n",
    "mpl.rc('ytick', labelsize=12)\n",
    "import geopandas\n",
    "from mpl_toolkits.basemap import Basemap\n",
    "import csv\n",
    "import sklearn.linear_model\n",
    "\n",
    "# Where to save the figures\n",
    "PROJECT_ROOT_DIR = \".\"\n",
    "CHAPTER_ID = \"classification\"\n",
    "\n",
    "def save_fig(fig_id, tight_layout=True):\n",
    "    path = os.path.join(PROJECT_ROOT_DIR, \"images\", CHAPTER_ID, fig_id + \".png\")\n",
    "    print(\"Saving figure\", fig_id)\n",
    "    if tight_layout:\n",
    "        plt.tight_layout()\n",
    "    plt.savefig(path, format='png', dpi=300)"
   ]
  },
  {
   "cell_type": "code",
   "execution_count": 2,
   "metadata": {},
   "outputs": [],
   "source": [
    "# To support both python 2 and python 3\n",
    "from __future__ import division, print_function, unicode_literals\n",
    "\n",
    "# to make this notebook's output stable across runs\n",
    "np.random.seed(42)\n",
    "\n",
    "# Imports\n",
    "import os\n",
    "import tarfile \n",
    "from six.moves import urllib"
   ]
  },
  {
   "cell_type": "code",
   "execution_count": 3,
   "metadata": {},
   "outputs": [],
   "source": [
    "#ML imports\n",
    "from zlib import crc32\n",
    "from sklearn.model_selection import train_test_split\n",
    "from sklearn.model_selection import StratifiedShuffleSplit\n",
    "\n",
    "# Ignore useless warnings (see SciPy issue #5998)\n",
    "import warnings\n",
    "warnings.filterwarnings(action=\"ignore\", message=\"^internal gelsd\")\n",
    "# Ignore useless warnings (see SciPy issue #5998)\n",
    "import warnings\n",
    "warnings.filterwarnings(action=\"ignore\", message=\"^internal gelsd\")"
   ]
  },
  {
   "cell_type": "markdown",
   "metadata": {},
   "source": [
    "# Explore Data"
   ]
  },
  {
   "cell_type": "markdown",
   "metadata": {},
   "source": [
    "Data sources: \n",
    "    1. Boreholes - USGS Groundwater Mapping datasets \n",
    "    \n",
    "    2. Altitude - NASA Earth Observation Data (Digital Elevation Models)\n",
    "    \n",
    "    3. Soil type - Africa Soil Information Service\n",
    "    https://www.isric.org/explore/soilgrids\n",
    "    \n",
    "    4. Lithography - SERVIR/NASA Africa Surface Lithology Survey\n",
    "    http://opendata.rcmrd.org/datasets/africa-surface-lithology/data\n",
    "    \n",
    "    5. Proximity data to lake and rivers calculated using vector distance tools\n",
    "    https://docs.qgis.org/testing/en/docs/user_manual/processing_algs/qgis/vectoranalysis.html#qgisdistancetonearesthubpoints"
   ]
  },
  {
   "cell_type": "code",
   "execution_count": 4,
   "metadata": {},
   "outputs": [],
   "source": [
    "#Load Turkana Training Dataset\n",
    "turkanaBH = pd.read_csv(\"C:/Users/NATHANWANGUSI/Box Sync/Water/Research/DSS/Groundwater/Data/turkanaData/groundwaterClassifierInputs/csv/trainingSet_gw.csv\")\n"
   ]
  },
  {
   "cell_type": "code",
   "execution_count": 5,
   "metadata": {},
   "outputs": [],
   "source": [
    "#Load Turkana Test Dataset\n",
    "\n",
    "turkanaBH_test = pd.read_csv(\"C:/Users/NATHANWANGUSI/Box Sync/Water/Research/DSS/Groundwater/Data/turkanaData/groundwaterClassifierInputs/csv/testSet_gw.csv\")"
   ]
  },
  {
   "cell_type": "code",
   "execution_count": 6,
   "metadata": {},
   "outputs": [],
   "source": [
    "turkanaBH['DEPTH_CLASS'] = pd.cut(turkanaBH['DEPTH'], \n",
    "                                  bins=[0,30,40,60,80,100,120,140,float('Inf')], \n",
    "                                  labels=['0-30','30-40','41-60','61-80','81-100','101-120','121-140','140+'])"
   ]
  },
  {
   "cell_type": "code",
   "execution_count": 7,
   "metadata": {},
   "outputs": [
    {
     "data": {
      "text/html": [
       "<div>\n",
       "<style scoped>\n",
       "    .dataframe tbody tr th:only-of-type {\n",
       "        vertical-align: middle;\n",
       "    }\n",
       "\n",
       "    .dataframe tbody tr th {\n",
       "        vertical-align: top;\n",
       "    }\n",
       "\n",
       "    .dataframe thead th {\n",
       "        text-align: right;\n",
       "    }\n",
       "</style>\n",
       "<table border=\"1\" class=\"dataframe\">\n",
       "  <thead>\n",
       "    <tr style=\"text-align: right;\">\n",
       "      <th></th>\n",
       "      <th>BOREHOLE_ID</th>\n",
       "      <th>BOREHOLE_NAME</th>\n",
       "      <th>DEPTH_CLASS</th>\n",
       "      <th>DEPTH</th>\n",
       "      <th>LAT</th>\n",
       "      <th>LONG</th>\n",
       "      <th>ALT</th>\n",
       "      <th>SOIL_TYPE</th>\n",
       "      <th>LITH_CODE</th>\n",
       "      <th>LAKE_PROX</th>\n",
       "      <th>RIVER_PROX</th>\n",
       "    </tr>\n",
       "  </thead>\n",
       "  <tbody>\n",
       "    <tr>\n",
       "      <th>0</th>\n",
       "      <td>1</td>\n",
       "      <td>Unamed 6</td>\n",
       "      <td>30-40</td>\n",
       "      <td>30.5</td>\n",
       "      <td>3.3194</td>\n",
       "      <td>35.9644</td>\n",
       "      <td>604</td>\n",
       "      <td>CMca</td>\n",
       "      <td>19</td>\n",
       "      <td>0.201857</td>\n",
       "      <td>20.864685</td>\n",
       "    </tr>\n",
       "    <tr>\n",
       "      <th>1</th>\n",
       "      <td>2</td>\n",
       "      <td>Unamed 7</td>\n",
       "      <td>0-30</td>\n",
       "      <td>30.0</td>\n",
       "      <td>3.3194</td>\n",
       "      <td>35.9583</td>\n",
       "      <td>622</td>\n",
       "      <td>CMca</td>\n",
       "      <td>19</td>\n",
       "      <td>0.237385</td>\n",
       "      <td>20.697343</td>\n",
       "    </tr>\n",
       "    <tr>\n",
       "      <th>2</th>\n",
       "      <td>3</td>\n",
       "      <td>Unamed 2</td>\n",
       "      <td>0-30</td>\n",
       "      <td>30.0</td>\n",
       "      <td>3.3142</td>\n",
       "      <td>35.9589</td>\n",
       "      <td>565</td>\n",
       "      <td>CMca</td>\n",
       "      <td>14</td>\n",
       "      <td>0.600869</td>\n",
       "      <td>20.154360</td>\n",
       "    </tr>\n",
       "    <tr>\n",
       "      <th>3</th>\n",
       "      <td>4</td>\n",
       "      <td>Unamed 8</td>\n",
       "      <td>0-30</td>\n",
       "      <td>30.0</td>\n",
       "      <td>3.3194</td>\n",
       "      <td>35.9525</td>\n",
       "      <td>761</td>\n",
       "      <td>CMca</td>\n",
       "      <td>10</td>\n",
       "      <td>0.720092</td>\n",
       "      <td>20.557714</td>\n",
       "    </tr>\n",
       "    <tr>\n",
       "      <th>4</th>\n",
       "      <td>5</td>\n",
       "      <td>Unamed 3</td>\n",
       "      <td>30-40</td>\n",
       "      <td>30.5</td>\n",
       "      <td>3.3142</td>\n",
       "      <td>35.9667</td>\n",
       "      <td>607</td>\n",
       "      <td>CMca</td>\n",
       "      <td>9</td>\n",
       "      <td>0.788452</td>\n",
       "      <td>20.380654</td>\n",
       "    </tr>\n",
       "  </tbody>\n",
       "</table>\n",
       "</div>"
      ],
      "text/plain": [
       "   BOREHOLE_ID BOREHOLE_NAME DEPTH_CLASS  DEPTH     LAT     LONG  ALT  \\\n",
       "0            1      Unamed 6       30-40   30.5  3.3194  35.9644  604   \n",
       "1            2      Unamed 7        0-30   30.0  3.3194  35.9583  622   \n",
       "2            3      Unamed 2        0-30   30.0  3.3142  35.9589  565   \n",
       "3            4      Unamed 8        0-30   30.0  3.3194  35.9525  761   \n",
       "4            5      Unamed 3       30-40   30.5  3.3142  35.9667  607   \n",
       "\n",
       "  SOIL_TYPE  LITH_CODE  LAKE_PROX  RIVER_PROX  \n",
       "0      CMca         19   0.201857   20.864685  \n",
       "1      CMca         19   0.237385   20.697343  \n",
       "2      CMca         14   0.600869   20.154360  \n",
       "3      CMca         10   0.720092   20.557714  \n",
       "4      CMca          9   0.788452   20.380654  "
      ]
     },
     "execution_count": 7,
     "metadata": {},
     "output_type": "execute_result"
    }
   ],
   "source": [
    "turkanaBH.head()"
   ]
  },
  {
   "cell_type": "code",
   "execution_count": 8,
   "metadata": {},
   "outputs": [
    {
     "data": {
      "text/html": [
       "<div>\n",
       "<style scoped>\n",
       "    .dataframe tbody tr th:only-of-type {\n",
       "        vertical-align: middle;\n",
       "    }\n",
       "\n",
       "    .dataframe tbody tr th {\n",
       "        vertical-align: top;\n",
       "    }\n",
       "\n",
       "    .dataframe thead th {\n",
       "        text-align: right;\n",
       "    }\n",
       "</style>\n",
       "<table border=\"1\" class=\"dataframe\">\n",
       "  <thead>\n",
       "    <tr style=\"text-align: right;\">\n",
       "      <th></th>\n",
       "      <th>BOREHOLE_ID</th>\n",
       "      <th>BOREHOLE_NAME</th>\n",
       "      <th>LAT</th>\n",
       "      <th>LONG</th>\n",
       "      <th>ALT</th>\n",
       "      <th>SOIL_TYPE</th>\n",
       "      <th>LITH_CODE</th>\n",
       "      <th>LAKE_PROX</th>\n",
       "      <th>RIVER_PROX</th>\n",
       "    </tr>\n",
       "  </thead>\n",
       "  <tbody>\n",
       "    <tr>\n",
       "      <th>0</th>\n",
       "      <td>272</td>\n",
       "      <td>Lotonguna</td>\n",
       "      <td>2.472500</td>\n",
       "      <td>35.504028</td>\n",
       "      <td>760</td>\n",
       "      <td>RGca</td>\n",
       "      <td>10</td>\n",
       "      <td>88.024674</td>\n",
       "      <td>12.648236</td>\n",
       "    </tr>\n",
       "    <tr>\n",
       "      <th>1</th>\n",
       "      <td>273</td>\n",
       "      <td>Kaichupaluk</td>\n",
       "      <td>2.535528</td>\n",
       "      <td>35.579694</td>\n",
       "      <td>812</td>\n",
       "      <td>RGca</td>\n",
       "      <td>10</td>\n",
       "      <td>77.099128</td>\n",
       "      <td>22.076143</td>\n",
       "    </tr>\n",
       "    <tr>\n",
       "      <th>2</th>\n",
       "      <td>274</td>\n",
       "      <td>Kalokoda</td>\n",
       "      <td>2.397806</td>\n",
       "      <td>35.506583</td>\n",
       "      <td>746</td>\n",
       "      <td>RGca</td>\n",
       "      <td>10</td>\n",
       "      <td>93.228497</td>\n",
       "      <td>11.182644</td>\n",
       "    </tr>\n",
       "    <tr>\n",
       "      <th>3</th>\n",
       "      <td>275</td>\n",
       "      <td>Kagete</td>\n",
       "      <td>2.293306</td>\n",
       "      <td>35.489917</td>\n",
       "      <td>743</td>\n",
       "      <td>RGca</td>\n",
       "      <td>10</td>\n",
       "      <td>102.716447</td>\n",
       "      <td>8.784197</td>\n",
       "    </tr>\n",
       "    <tr>\n",
       "      <th>4</th>\n",
       "      <td>276</td>\n",
       "      <td>Kachila</td>\n",
       "      <td>2.218083</td>\n",
       "      <td>35.499611</td>\n",
       "      <td>763</td>\n",
       "      <td>ARbr</td>\n",
       "      <td>10</td>\n",
       "      <td>108.211224</td>\n",
       "      <td>10.299680</td>\n",
       "    </tr>\n",
       "  </tbody>\n",
       "</table>\n",
       "</div>"
      ],
      "text/plain": [
       "   BOREHOLE_ID BOREHOLE_NAME       LAT       LONG  ALT SOIL_TYPE  LITH_CODE  \\\n",
       "0          272     Lotonguna  2.472500  35.504028  760      RGca         10   \n",
       "1          273   Kaichupaluk  2.535528  35.579694  812      RGca         10   \n",
       "2          274      Kalokoda  2.397806  35.506583  746      RGca         10   \n",
       "3          275        Kagete  2.293306  35.489917  743      RGca         10   \n",
       "4          276       Kachila  2.218083  35.499611  763      ARbr         10   \n",
       "\n",
       "    LAKE_PROX  RIVER_PROX  \n",
       "0   88.024674   12.648236  \n",
       "1   77.099128   22.076143  \n",
       "2   93.228497   11.182644  \n",
       "3  102.716447    8.784197  \n",
       "4  108.211224   10.299680  "
      ]
     },
     "execution_count": 8,
     "metadata": {},
     "output_type": "execute_result"
    }
   ],
   "source": [
    "turkanaBH_test.head()"
   ]
  },
  {
   "cell_type": "code",
   "execution_count": 9,
   "metadata": {},
   "outputs": [
    {
     "name": "stdout",
     "output_type": "stream",
     "text": [
      "<class 'pandas.core.frame.DataFrame'>\n",
      "RangeIndex: 271 entries, 0 to 270\n",
      "Data columns (total 11 columns):\n",
      "BOREHOLE_ID      271 non-null int64\n",
      "BOREHOLE_NAME    271 non-null object\n",
      "DEPTH_CLASS      271 non-null category\n",
      "DEPTH            271 non-null float64\n",
      "LAT              271 non-null float64\n",
      "LONG             271 non-null float64\n",
      "ALT              271 non-null int64\n",
      "SOIL_TYPE        271 non-null object\n",
      "LITH_CODE        271 non-null int64\n",
      "LAKE_PROX        271 non-null float64\n",
      "RIVER_PROX       271 non-null float64\n",
      "dtypes: category(1), float64(5), int64(3), object(2)\n",
      "memory usage: 21.9+ KB\n"
     ]
    }
   ],
   "source": [
    "turkanaBH.info()"
   ]
  },
  {
   "cell_type": "code",
   "execution_count": 10,
   "metadata": {},
   "outputs": [
    {
     "data": {
      "text/html": [
       "<div>\n",
       "<style scoped>\n",
       "    .dataframe tbody tr th:only-of-type {\n",
       "        vertical-align: middle;\n",
       "    }\n",
       "\n",
       "    .dataframe tbody tr th {\n",
       "        vertical-align: top;\n",
       "    }\n",
       "\n",
       "    .dataframe thead th {\n",
       "        text-align: right;\n",
       "    }\n",
       "</style>\n",
       "<table border=\"1\" class=\"dataframe\">\n",
       "  <thead>\n",
       "    <tr style=\"text-align: right;\">\n",
       "      <th></th>\n",
       "      <th>BOREHOLE_ID</th>\n",
       "      <th>DEPTH</th>\n",
       "      <th>LAT</th>\n",
       "      <th>LONG</th>\n",
       "      <th>ALT</th>\n",
       "      <th>LITH_CODE</th>\n",
       "      <th>LAKE_PROX</th>\n",
       "      <th>RIVER_PROX</th>\n",
       "    </tr>\n",
       "  </thead>\n",
       "  <tbody>\n",
       "    <tr>\n",
       "      <th>count</th>\n",
       "      <td>271.000000</td>\n",
       "      <td>271.000000</td>\n",
       "      <td>271.000000</td>\n",
       "      <td>271.000000</td>\n",
       "      <td>271.000000</td>\n",
       "      <td>271.000000</td>\n",
       "      <td>271.000000</td>\n",
       "      <td>271.000000</td>\n",
       "    </tr>\n",
       "    <tr>\n",
       "      <th>mean</th>\n",
       "      <td>136.000000</td>\n",
       "      <td>62.998339</td>\n",
       "      <td>3.500880</td>\n",
       "      <td>35.324236</td>\n",
       "      <td>644.605166</td>\n",
       "      <td>11.730627</td>\n",
       "      <td>78.863793</td>\n",
       "      <td>87.937928</td>\n",
       "    </tr>\n",
       "    <tr>\n",
       "      <th>std</th>\n",
       "      <td>78.375166</td>\n",
       "      <td>36.437408</td>\n",
       "      <td>0.813125</td>\n",
       "      <td>0.521010</td>\n",
       "      <td>173.352379</td>\n",
       "      <td>2.824061</td>\n",
       "      <td>47.481881</td>\n",
       "      <td>62.269425</td>\n",
       "    </tr>\n",
       "    <tr>\n",
       "      <th>min</th>\n",
       "      <td>1.000000</td>\n",
       "      <td>6.000000</td>\n",
       "      <td>1.336400</td>\n",
       "      <td>34.233300</td>\n",
       "      <td>347.000000</td>\n",
       "      <td>6.000000</td>\n",
       "      <td>0.201857</td>\n",
       "      <td>0.382124</td>\n",
       "    </tr>\n",
       "    <tr>\n",
       "      <th>25%</th>\n",
       "      <td>68.500000</td>\n",
       "      <td>32.000000</td>\n",
       "      <td>2.983300</td>\n",
       "      <td>34.871100</td>\n",
       "      <td>521.000000</td>\n",
       "      <td>10.000000</td>\n",
       "      <td>43.672765</td>\n",
       "      <td>20.734086</td>\n",
       "    </tr>\n",
       "    <tr>\n",
       "      <th>50%</th>\n",
       "      <td>136.000000</td>\n",
       "      <td>60.000000</td>\n",
       "      <td>3.683300</td>\n",
       "      <td>35.442200</td>\n",
       "      <td>617.000000</td>\n",
       "      <td>10.000000</td>\n",
       "      <td>70.555346</td>\n",
       "      <td>98.135487</td>\n",
       "    </tr>\n",
       "    <tr>\n",
       "      <th>75%</th>\n",
       "      <td>203.500000</td>\n",
       "      <td>90.000000</td>\n",
       "      <td>4.169450</td>\n",
       "      <td>35.657600</td>\n",
       "      <td>725.000000</td>\n",
       "      <td>14.000000</td>\n",
       "      <td>109.037599</td>\n",
       "      <td>134.889934</td>\n",
       "    </tr>\n",
       "    <tr>\n",
       "      <th>max</th>\n",
       "      <td>271.000000</td>\n",
       "      <td>180.000000</td>\n",
       "      <td>5.040300</td>\n",
       "      <td>36.353900</td>\n",
       "      <td>1315.000000</td>\n",
       "      <td>19.000000</td>\n",
       "      <td>182.104180</td>\n",
       "      <td>209.698536</td>\n",
       "    </tr>\n",
       "  </tbody>\n",
       "</table>\n",
       "</div>"
      ],
      "text/plain": [
       "       BOREHOLE_ID       DEPTH         LAT        LONG          ALT  \\\n",
       "count   271.000000  271.000000  271.000000  271.000000   271.000000   \n",
       "mean    136.000000   62.998339    3.500880   35.324236   644.605166   \n",
       "std      78.375166   36.437408    0.813125    0.521010   173.352379   \n",
       "min       1.000000    6.000000    1.336400   34.233300   347.000000   \n",
       "25%      68.500000   32.000000    2.983300   34.871100   521.000000   \n",
       "50%     136.000000   60.000000    3.683300   35.442200   617.000000   \n",
       "75%     203.500000   90.000000    4.169450   35.657600   725.000000   \n",
       "max     271.000000  180.000000    5.040300   36.353900  1315.000000   \n",
       "\n",
       "        LITH_CODE   LAKE_PROX  RIVER_PROX  \n",
       "count  271.000000  271.000000  271.000000  \n",
       "mean    11.730627   78.863793   87.937928  \n",
       "std      2.824061   47.481881   62.269425  \n",
       "min      6.000000    0.201857    0.382124  \n",
       "25%     10.000000   43.672765   20.734086  \n",
       "50%     10.000000   70.555346   98.135487  \n",
       "75%     14.000000  109.037599  134.889934  \n",
       "max     19.000000  182.104180  209.698536  "
      ]
     },
     "execution_count": 10,
     "metadata": {},
     "output_type": "execute_result"
    }
   ],
   "source": [
    "turkanaBH.describe()"
   ]
  },
  {
   "cell_type": "code",
   "execution_count": 11,
   "metadata": {},
   "outputs": [
    {
     "data": {
      "text/plain": [
       "0-30       63\n",
       "41-60      62\n",
       "61-80      44\n",
       "81-100     39\n",
       "30-40      27\n",
       "101-120    14\n",
       "140+       12\n",
       "121-140    10\n",
       "Name: DEPTH_CLASS, dtype: int64"
      ]
     },
     "execution_count": 11,
     "metadata": {},
     "output_type": "execute_result"
    }
   ],
   "source": [
    "turkanaBH[\"DEPTH_CLASS\"].value_counts()"
   ]
  },
  {
   "cell_type": "code",
   "execution_count": 12,
   "metadata": {},
   "outputs": [
    {
     "data": {
      "text/plain": [
       "10    107\n",
       "14     94\n",
       "9      50\n",
       "19     17\n",
       "7       2\n",
       "6       1\n",
       "Name: LITH_CODE, dtype: int64"
      ]
     },
     "execution_count": 12,
     "metadata": {},
     "output_type": "execute_result"
    }
   ],
   "source": [
    "turkanaBH[\"LITH_CODE\"].value_counts()"
   ]
  },
  {
   "cell_type": "code",
   "execution_count": 13,
   "metadata": {},
   "outputs": [
    {
     "data": {
      "text/plain": [
       "10    107\n",
       "14     94\n",
       "9      50\n",
       "19     17\n",
       "7       2\n",
       "6       1\n",
       "Name: LITH_CODE, dtype: int64"
      ]
     },
     "execution_count": 13,
     "metadata": {},
     "output_type": "execute_result"
    }
   ],
   "source": [
    "turkanaBH[\"LITH_CODE\"].value_counts()"
   ]
  },
  {
   "cell_type": "code",
   "execution_count": 14,
   "metadata": {},
   "outputs": [
    {
     "data": {
      "text/plain": [
       "RGca    57\n",
       "FLeu    45\n",
       "SNcc    34\n",
       "PLeu    25\n",
       "ARbr    23\n",
       "CMca    21\n",
       "FLca    17\n",
       "SCcc    12\n",
       "CMeu    11\n",
       "SNmo    10\n",
       "RGdy     4\n",
       "CLlv     4\n",
       "LPli     3\n",
       "LXha     2\n",
       "CLha     2\n",
       "LVcr     1\n",
       "Name: SOIL_TYPE, dtype: int64"
      ]
     },
     "execution_count": 14,
     "metadata": {},
     "output_type": "execute_result"
    }
   ],
   "source": [
    "turkanaBH[\"SOIL_TYPE\"].value_counts()"
   ]
  },
  {
   "cell_type": "code",
   "execution_count": 15,
   "metadata": {},
   "outputs": [
    {
     "data": {
      "text/plain": [
       "0-30       63\n",
       "41-60      62\n",
       "61-80      44\n",
       "81-100     39\n",
       "30-40      27\n",
       "101-120    14\n",
       "140+       12\n",
       "121-140    10\n",
       "Name: DEPTH_CLASS, dtype: int64"
      ]
     },
     "execution_count": 15,
     "metadata": {},
     "output_type": "execute_result"
    }
   ],
   "source": [
    "turkanaBH[\"DEPTH_CLASS\"].value_counts()"
   ]
  },
  {
   "cell_type": "markdown",
   "metadata": {},
   "source": [
    "# Visualize\n"
   ]
  },
  {
   "cell_type": "code",
   "execution_count": 16,
   "metadata": {},
   "outputs": [
    {
     "data": {
      "image/png": "[encoded data removed]",
      "text/plain": [
       "<Figure size 1440x1080 with 9 Axes>"
      ]
     },
     "metadata": {
      "needs_background": "light"
     },
     "output_type": "display_data"
    }
   ],
   "source": [
    "turkanaBH.hist(bins=50, figsize=(20,15))\n",
    "plt.show()"
   ]
  },
  {
   "cell_type": "code",
   "execution_count": null,
   "metadata": {},
   "outputs": [],
   "source": [
    "turkanaBH[\"DEPTH\"].hist()"
   ]
  },
  {
   "cell_type": "code",
   "execution_count": null,
   "metadata": {},
   "outputs": [],
   "source": [
    "#Visualize data\n",
    "turkanaBH.plot(kind =\"scatter\", x=\"LONG\", y=\"LAT\", alpha=0.9,\n",
    "            s=turkanaBH[\"DEPTH\"], label=\"LAKE_PROX\", figsize=(30,27),\n",
    "            c= \"DEPTH\", cmap=plt.get_cmap(\"jet\"), colorbar=True,\n",
    "            )\n",
    "plt.legend()"
   ]
  },
  {
   "cell_type": "code",
   "execution_count": null,
   "metadata": {
    "scrolled": false
   },
   "outputs": [],
   "source": [
    "\n",
    "\n",
    "lats, lons,depth,altitude = [],[],[],[]\n",
    "\n",
    "with open(\"C:/Users/NATHANWANGUSI/Box Sync/Water/Research/DSS/Groundwater/Data/turkanaData/groundwaterClassifierInputs/csv/trainingSet_gw.csv\") as csvfile:\n",
    "    reader = csv.DictReader(csvfile,delimiter=',')\n",
    "    for data in reader:\n",
    "        depth.append(float(data['DEPTH']))\n",
    "        lats.append(float(data['LAT']))\n",
    "        lons.append(float(data['LONG']))\n",
    "        altitude.append(float(data['ALT']))\n",
    "        \n",
    "# How much to zoom from coordinates (in degrees)\n",
    "zoom_scale = 0.2\n",
    "\n",
    "# Setup the bounding box for the zoom and bounds of the map\n",
    "bbox = [np.min(lats)-zoom_scale,np.max(lats)+zoom_scale,\\\n",
    "np.min(lons)-zoom_scale,np.max(lons)+zoom_scale]\n",
    "\n",
    "fig, ax = plt.subplots(figsize=(20,17))\n",
    "plt.title(\"Borehole Depths in Turkana\")\n",
    "\n",
    "# Define the projection, scale, the corners of the map, and the resolution.\n",
    "m = Basemap(projection='merc',\n",
    "            llcrnrlat=bbox[0],\n",
    "            urcrnrlat=bbox[1],\n",
    "            llcrnrlon=bbox[2],\n",
    "            urcrnrlon=bbox[3],\n",
    "            lat_ts=10,\n",
    "            resolution='c')\n",
    "\n",
    "#Use etopo tile as background\n",
    "m.etopo()\n",
    "\n",
    "# Draw coastlines and fill continents and water with color\n",
    "m.drawcountries(linewidth=2)\n",
    "m.drawrivers(linewidth=0.5, linestyle='dashed', color='#0000ff')\n",
    "\n",
    "# draw parallels, meridians, and color boundaries\n",
    "m.drawparallels(np.arange(bbox[0],bbox[1],(bbox[1]-bbox[0])/5),labels=[1,0,0,0])\n",
    "m.drawmeridians(np.arange(bbox[2],bbox[3],(bbox[3]-bbox[2])/5),labels=[0,0,0,1],rotation=15)\n",
    "m.drawmapboundary()\n",
    "\n",
    "# format colors for depth range\n",
    "depth_min = np.min(depth)\n",
    "depth_max = np.max(depth)\n",
    "cmap = plt.get_cmap('gist_earth')\n",
    "normalize = matplotlib.colors.Normalize(vmin=depth_min, vmax=depth_max)\n",
    "\n",
    "# plot depths with different colors using the numpy interpolation mapping tool\n",
    "# the range [10,200] can be changed to create different colors and ranges\n",
    "\n",
    "for ii in range(0,len(depth)):\n",
    "    x,y = m(lons[ii],lats[ii])\n",
    "    color_interp = np.interp(depth[ii],[depth_min,depth_max],[10,600])\n",
    "    plt.plot(x,y,0,marker='o', markersize=10, color=cmap(int(color_interp)))\n",
    "\n",
    "# format the colorbar \n",
    "cax, _ = matplotlib.colorbar.make_axes(ax)\n",
    "cbar = matplotlib.colorbar.ColorbarBase(cax, cmap=cmap,norm=normalize,label='Depth')\n",
    "\n",
    "# Plot map\n",
    "plt.show()\n"
   ]
  },
  {
   "cell_type": "code",
   "execution_count": null,
   "metadata": {
    "scrolled": true
   },
   "outputs": [],
   "source": [
    "from pandas.plotting import scatter_matrix\n",
    "\n",
    "attributes =[\"DEPTH\",\"ALT\",\"LAT\", \"LONG\",\"LAKE_PROX\",\"LITH_CODE\"]\n",
    "scatter_matrix(turkanaBH[attributes], figsize=(12,8))"
   ]
  },
  {
   "cell_type": "code",
   "execution_count": null,
   "metadata": {},
   "outputs": [],
   "source": [
    "turkanaBHdf = pd.DataFrame(turkanaBH)"
   ]
  },
  {
   "cell_type": "code",
   "execution_count": null,
   "metadata": {
    "scrolled": true
   },
   "outputs": [],
   "source": [
    "\n",
    "turkanaBHHist = turkanaBHdf.groupby([\"LITH_CODE\"]).DEPTH.plot(kind=\"hist\", legend=\"True\", bins = 12, alpha = 0.2,figsize=(12,8))\n",
    "plt.xlabel('Depth')\n",
    "plt.ylabel('Frequency')\n"
   ]
  },
  {
   "cell_type": "code",
   "execution_count": null,
   "metadata": {},
   "outputs": [],
   "source": [
    "turkanaBH.groupby(['LITH_CODE']).DEPTH.mean()"
   ]
  },
  {
   "cell_type": "markdown",
   "metadata": {},
   "source": [
    "# Transformation Pipeline\n"
   ]
  },
  {
   "cell_type": "code",
   "execution_count": null,
   "metadata": {},
   "outputs": [],
   "source": [
    "from sklearn.base import BaseEstimator, TransformerMixin\n",
    "\n",
    "# A class to select numerical or categorical columns \n",
    "# since Scikit-Learn doesn't handle DataFrames yet\n",
    "class DataFrameSelector(BaseEstimator, TransformerMixin):\n",
    "    def __init__(self, attribute_names):\n",
    "        self.attribute_names = attribute_names\n",
    "    def fit(self, X, y=None):\n",
    "        return self\n",
    "    def transform(self, X):\n",
    "        return X[self.attribute_names]"
   ]
  },
  {
   "cell_type": "code",
   "execution_count": null,
   "metadata": {},
   "outputs": [],
   "source": [
    "#Imputer strategy for numerical attributes\n",
    "from sklearn.pipeline import Pipeline\n",
    "try:\n",
    "    from sklearn.impute import SimpleImputer # Scikit-Learn 0.20+\n",
    "except ImportError:\n",
    "    from sklearn.preprocessing import Imputer as SimpleImputer\n",
    "\n",
    "num_pipeline = Pipeline([\n",
    "        (\"select_numeric\", DataFrameSelector([\"LAT\",\"LONG\",\"ALT\",\"LAKE_PROX\",\"RIVER_PROX\"])),\n",
    "        (\"imputer\", SimpleImputer(strategy=\"median\")),\n",
    "    ])"
   ]
  },
  {
   "cell_type": "code",
   "execution_count": null,
   "metadata": {},
   "outputs": [],
   "source": [
    "num_pipeline.fit_transform(turkanaBH)"
   ]
  },
  {
   "cell_type": "code",
   "execution_count": null,
   "metadata": {},
   "outputs": [],
   "source": [
    "# Imputer strategy for strings categorical columns\n",
    "class MostFrequentImputer(BaseEstimator, TransformerMixin):\n",
    "    def fit(self, X, y=None):\n",
    "        self.most_frequent_ = pd.Series([X[c].value_counts().index[0] for c in X],\n",
    "                                        index=X.columns)\n",
    "        return self\n",
    "    def transform(self, X, y=None):\n",
    "        return X.fillna(self.most_frequent_)"
   ]
  },
  {
   "cell_type": "code",
   "execution_count": null,
   "metadata": {},
   "outputs": [],
   "source": [
    "try:\n",
    "    from sklearn.preprocessing import OrdinalEncoder # just to raise an ImportError if Scikit-Learn < 0.20\n",
    "    from sklearn.preprocessing import OneHotEncoder\n",
    "except ImportError:\n",
    "    from future_encoders import OneHotEncoder # Scikit-Learn < 0.20"
   ]
  },
  {
   "cell_type": "code",
   "execution_count": null,
   "metadata": {},
   "outputs": [],
   "source": [
    "#Pipeline for categorical attributes\n",
    "cat_pipeline = Pipeline([\n",
    "        (\"select_cat\", DataFrameSelector([\"SOIL_TYPE\",\"LITH_CODE\"])),\n",
    "        (\"imputer\", MostFrequentImputer()),\n",
    "        (\"cat_encoder\", OneHotEncoder(sparse=False)),\n",
    "    ])"
   ]
  },
  {
   "cell_type": "code",
   "execution_count": null,
   "metadata": {},
   "outputs": [],
   "source": [
    "cat_pipeline.fit_transform(turkanaBH)"
   ]
  },
  {
   "cell_type": "code",
   "execution_count": null,
   "metadata": {},
   "outputs": [],
   "source": [
    "#Join the numerical and categorical pipelines\n",
    "from sklearn.pipeline import FeatureUnion\n",
    "preprocess_pipeline = FeatureUnion (transformer_list=[\n",
    "        (\"num_pipeline\", num_pipeline),\n",
    "        (\"cat_pipeline\", cat_pipeline),\n",
    "    ])"
   ]
  },
  {
   "cell_type": "code",
   "execution_count": null,
   "metadata": {},
   "outputs": [],
   "source": [
    "X_train=preprocess_pipeline.fit_transform(turkanaBH)\n",
    "X_train"
   ]
  },
  {
   "cell_type": "code",
   "execution_count": null,
   "metadata": {},
   "outputs": [],
   "source": [
    "#Label the target variable\n",
    "y_train=turkanaBH[\"DEPTH_CLASS\"]"
   ]
  },
  {
   "cell_type": "code",
   "execution_count": null,
   "metadata": {},
   "outputs": [],
   "source": [
    "#Train the SVC classifier\n",
    "from sklearn.svm import SVC\n",
    "\n",
    "svm_clf = SVC(gamma=\"auto\")\n",
    "svm_clf.fit(X_train, y_train)"
   ]
  },
  {
   "cell_type": "code",
   "execution_count": null,
   "metadata": {},
   "outputs": [],
   "source": [
    "#Predict depth category using SVM\n",
    "import numpy\n",
    "X_test = preprocess_pipeline.transform(turkanaBH_test)\n",
    "y_pred=svm_clf.predict(X_test)\n",
    "print(y_pred)"
   ]
  },
  {
   "cell_type": "code",
   "execution_count": null,
   "metadata": {},
   "outputs": [],
   "source": [
    "#Cross validation to check model performance\n",
    "from sklearn.model_selection import cross_val_score\n",
    "\n",
    "svm_scores = cross_val_score(svm_clf, X_train, y_train, cv=10)\n",
    "svm_scores.mean()"
   ]
  },
  {
   "cell_type": "code",
   "execution_count": null,
   "metadata": {},
   "outputs": [],
   "source": [
    "#Train Random Forest Classifier: \n",
    "from sklearn.ensemble import RandomForestClassifier\n",
    "\n",
    "forest_clf = RandomForestClassifier(n_estimators=100, random_state=42)\n",
    "forest_scores = cross_val_score(forest_clf, X_train, y_train, cv=10)\n",
    "forest_scores.mean()"
   ]
  },
  {
   "cell_type": "code",
   "execution_count": null,
   "metadata": {},
   "outputs": [],
   "source": [
    "from sklearn.linear_model import LogisticRegression\n",
    "from sklearn.model_selection import cross_val_score\n",
    "\n",
    "log_clf = LogisticRegression(solver=\"liblinear\", random_state=42)\n",
    "log_scores = cross_val_score(log_clf, X_train, y_train, cv=3, verbose=3)\n",
    "log_scores.mean()"
   ]
  },
  {
   "cell_type": "code",
   "execution_count": null,
   "metadata": {},
   "outputs": [],
   "source": [
    " from sklearn.neighbors import KNeighborsClassifier \n",
    "clf =  KNeighborsClassifier(4)\n",
    "kneigh_scores = cross_val_score(clf, X_train, y_train, cv=5)\n",
    "kneigh_scores.mean()"
   ]
  },
  {
   "cell_type": "code",
   "execution_count": null,
   "metadata": {},
   "outputs": [],
   "source": [
    "plt.figure(figsize=(8, 6))\n",
    "plt.boxplot([svm_scores, forest_scores, log_scores, kneigh_scores], \n",
    "            labels=(\"SVM\",\"Random Forest\",\"Log Regression\", \"K-Neighbor\"))\n",
    "plt.ylabel(\"Accuracy\", fontsize=14)\n",
    "plt.show()"
   ]
  },
  {
   "cell_type": "code",
   "execution_count": null,
   "metadata": {},
   "outputs": [],
   "source": []
  }
 ],
 "metadata": {
  "kernelspec": {
   "display_name": "Python 3",
   "language": "python",
   "name": "python3"
  },
  "language_info": {
   "codemirror_mode": {
    "name": "ipython",
    "version": 3
   },
   "file_extension": ".py",
   "mimetype": "text/x-python",
   "name": "python",
   "nbconvert_exporter": "python",
   "pygments_lexer": "ipython3",
   "version": "3.7.3"
  }
 },
 "nbformat": 4,
 "nbformat_minor": 2
}
